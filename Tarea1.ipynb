{
  "nbformat": 4,
  "nbformat_minor": 0,
  "metadata": {
    "colab": {
      "name": "Python01.ipynb",
      "version": "0.3.2",
      "provenance": []
    },
    "kernelspec": {
      "name": "python3",
      "display_name": "Python 3"
    }
  },
  "cells": [
    {
      "metadata": {
        "id": "_gmZI7D4giEZ",
        "colab_type": "text"
      },
      "cell_type": "markdown",
      "source": [
        "#UNIVERSIDAD TECNOLÓGICA DE PANAMÁ\n",
        "##FACULTAD DE INGENIERÍA DE SISTEMAS COMPUTACIONALES\n",
        "##DEPARTAMENTO DE COMPUTACIÓN Y SIMULACIÓN DE SISTEMAS\n",
        "\n",
        "##ESTRUCTURAS DISCRETAS PARA LA COMPUTACIÓN\n",
        "\n",
        "## Profesor: Ezequiel Aguilar González\n",
        "\n"
      ]
    },
    {
      "metadata": {
        "id": "VBhLRiBJyi1B",
        "colab_type": "text"
      },
      "cell_type": "markdown",
      "source": [
        "## Inicializar un conjunto"
      ]
    },
    {
      "metadata": {
        "id": "aOSvH0zmyobi",
        "colab_type": "code",
        "colab": {}
      },
      "cell_type": "code",
      "source": [
        " vacioSet = set()\n",
        " "
      ],
      "execution_count": 0,
      "outputs": []
    },
    {
      "metadata": {
        "id": "qlQxp4LFywQ3",
        "colab_type": "text"
      },
      "cell_type": "markdown",
      "source": [
        "## Inicializar con valores\n"
      ]
    },
    {
      "metadata": {
        "id": "wgcDg3_4y01T",
        "colab_type": "code",
        "colab": {}
      },
      "cell_type": "code",
      "source": [
        "dataScientist = set(['Python', 'R', 'SQL', 'Git', 'Tableau', 'SAS'])\n",
        "dataEngineer = set(['Python', 'Java', 'Scala', 'Git', 'SQL', 'Hadoop'])"
      ],
      "execution_count": 0,
      "outputs": []
    },
    {
      "metadata": {
        "id": "wQh9ePlKy7ch",
        "colab_type": "text"
      },
      "cell_type": "markdown",
      "source": [
        "## Asignación: Imprimir los valores de dataScientist y dataEngineer"
      ]
    },
    {
      "metadata": {
        "id": "IIBmCwLHzEWo",
        "colab_type": "code",
        "colab": {
          "base_uri": "https://localhost:8080/",
          "height": 34
        },
        "outputId": "caa8da89-2ecd-4d99-af22-0272b0504e6d"
      },
      "cell_type": "code",
      "source": [
        "dataScientist\n"
      ],
      "execution_count": 7,
      "outputs": [
        {
          "output_type": "execute_result",
          "data": {
            "text/plain": [
              "{'Git', 'Python', 'R', 'SAS', 'SQL', 'Tableau'}"
            ]
          },
          "metadata": {
            "tags": []
          },
          "execution_count": 7
        }
      ]
    },
    {
      "metadata": {
        "id": "0n6c9h8IzGWv",
        "colab_type": "code",
        "colab": {
          "base_uri": "https://localhost:8080/",
          "height": 34
        },
        "outputId": "1ff5e453-18b5-4bc0-8a05-fd756d7d84bb"
      },
      "cell_type": "code",
      "source": [
        "dataEngineer"
      ],
      "execution_count": 8,
      "outputs": [
        {
          "output_type": "execute_result",
          "data": {
            "text/plain": [
              "{'Git', 'Hadoop', 'Java', 'Python', 'SQL', 'Scala'}"
            ]
          },
          "metadata": {
            "tags": []
          },
          "execution_count": 8
        }
      ]
    },
    {
      "metadata": {
        "id": "ssjqd7GFzEuw",
        "colab_type": "text"
      },
      "cell_type": "markdown",
      "source": [
        "## Otra forma de inicialización\n"
      ]
    },
    {
      "metadata": {
        "id": "tH_7F-aOzR5i",
        "colab_type": "code",
        "colab": {}
      },
      "cell_type": "code",
      "source": [
        "dataScientist = {'Python', 'R', 'SQL', 'Git', 'Tableau', 'SAS'}\n",
        "dataEngineer = {'Python', 'Java', 'Scala', 'Git', 'SQL', 'Hadoop'}"
      ],
      "execution_count": 0,
      "outputs": []
    },
    {
      "metadata": {
        "id": "YOpWKoxUzWAF",
        "colab_type": "text"
      },
      "cell_type": "markdown",
      "source": [
        "## Agregar o remover elementos"
      ]
    },
    {
      "metadata": {
        "id": "2G7pbZGKzgZS",
        "colab_type": "code",
        "colab": {}
      },
      "cell_type": "code",
      "source": [
        "graphicDesigner = {'InDesign', 'Photoshop', 'Acrobat', 'Premiere', 'Bridge'}"
      ],
      "execution_count": 0,
      "outputs": []
    },
    {
      "metadata": {
        "id": "J4T1l18rzmfz",
        "colab_type": "text"
      },
      "cell_type": "markdown",
      "source": [
        "### Agregar valores\n"
      ]
    },
    {
      "metadata": {
        "id": "qLukEDnyzj1g",
        "colab_type": "code",
        "colab": {}
      },
      "cell_type": "code",
      "source": [
        "graphicDesigner.add('Illustrator')"
      ],
      "execution_count": 0,
      "outputs": []
    },
    {
      "metadata": {
        "id": "E2H-BNZAPIUX",
        "colab_type": "code",
        "colab": {
          "base_uri": "https://localhost:8080/",
          "height": 163
        },
        "outputId": "109d3621-656c-4379-fffb-f68dea54639c"
      },
      "cell_type": "code",
      "source": [
        ""
      ],
      "execution_count": 29,
      "outputs": [
        {
          "output_type": "error",
          "ename": "KeyError",
          "evalue": "ignored",
          "traceback": [
            "\u001b[0;31m---------------------------------------------------------------------------\u001b[0m",
            "\u001b[0;31mKeyError\u001b[0m                                  Traceback (most recent call last)",
            "\u001b[0;32m<ipython-input-29-d52c6514d47c>\u001b[0m in \u001b[0;36m<module>\u001b[0;34m()\u001b[0m\n\u001b[0;32m----> 1\u001b[0;31m \u001b[0mgraphicDesigner\u001b[0m\u001b[0;34m.\u001b[0m\u001b[0mremove\u001b[0m\u001b[0;34m(\u001b[0m\u001b[0;34m'Illustrator'\u001b[0m\u001b[0;34m)\u001b[0m\u001b[0;34m\u001b[0m\u001b[0;34m\u001b[0m\u001b[0m\n\u001b[0m",
            "\u001b[0;31mKeyError\u001b[0m: 'Illustrator'"
          ]
        }
      ]
    },
    {
      "metadata": {
        "id": "UIRT4OAgzvof",
        "colab_type": "code",
        "colab": {}
      },
      "cell_type": "code",
      "source": [
        "graphicDesigner.remove('Illustrator')"
      ],
      "execution_count": 0,
      "outputs": []
    },
    {
      "metadata": {
        "id": "GxOJz-ggQFhw",
        "colab_type": "code",
        "colab": {
          "base_uri": "https://localhost:8080/",
          "height": 34
        },
        "outputId": "dd5167f7-d5c5-4a64-c0f3-ad7adb7f1621"
      },
      "cell_type": "code",
      "source": [
        "graphicDesigner"
      ],
      "execution_count": 31,
      "outputs": [
        {
          "output_type": "execute_result",
          "data": {
            "text/plain": [
              "set()"
            ]
          },
          "metadata": {
            "tags": []
          },
          "execution_count": 31
        }
      ]
    },
    {
      "metadata": {
        "id": "KShWz0niz2RK",
        "colab_type": "code",
        "colab": {}
      },
      "cell_type": "code",
      "source": [
        "graphicDesigner.clear()"
      ],
      "execution_count": 0,
      "outputs": []
    },
    {
      "metadata": {
        "id": "caENBLRiz6Bl",
        "colab_type": "code",
        "colab": {
          "base_uri": "https://localhost:8080/",
          "height": 119
        },
        "outputId": "e372c979-c68b-48eb-f6b4-dbef91c00bf4"
      },
      "cell_type": "code",
      "source": [
        "dataScientist = {'Python', 'R', 'SQL', 'Git', 'Tableau', 'SAS'}\n",
        "\n",
        "for skill in dataScientist:\n",
        "    print(skill)"
      ],
      "execution_count": 32,
      "outputs": [
        {
          "output_type": "stream",
          "text": [
            "Tableau\n",
            "SAS\n",
            "Python\n",
            "R\n",
            "Git\n",
            "SQL\n"
          ],
          "name": "stdout"
        }
      ]
    },
    {
      "metadata": {
        "id": "G8rNKN4dz7WX",
        "colab_type": "code",
        "outputId": "3a9583b2-f949-47da-bae8-92541c3e1750",
        "colab": {
          "base_uri": "https://localhost:8080/",
          "height": 34
        }
      },
      "cell_type": "code",
      "source": [
        "sorted(dataScientist, reverse = True)"
      ],
      "execution_count": 33,
      "outputs": [
        {
          "output_type": "execute_result",
          "data": {
            "text/plain": [
              "['Tableau', 'SQL', 'SAS', 'R', 'Python', 'Git']"
            ]
          },
          "metadata": {
            "tags": []
          },
          "execution_count": 33
        }
      ]
    },
    {
      "metadata": {
        "id": "kF1UCX4J0HqH",
        "colab_type": "code",
        "colab": {}
      },
      "cell_type": "code",
      "source": [
        "dataScientist = set(['Python', 'R', 'SQL', 'Git', 'Tableau', 'SAS'])\n",
        "dataEngineer = set(['Python', 'Java', 'Scala', 'Git', 'SQL', 'Hadoop'])"
      ],
      "execution_count": 0,
      "outputs": []
    },
    {
      "metadata": {
        "id": "4WSpEtkR0Pzh",
        "colab_type": "code",
        "outputId": "f6c8ed61-b122-4029-fb76-f196be092137",
        "colab": {
          "base_uri": "https://localhost:8080/",
          "height": 34
        }
      },
      "cell_type": "code",
      "source": [
        "\n",
        "dataScientist.union(dataEngineer)\n",
        "\n",
        "dataScientist | dataEngineer"
      ],
      "execution_count": 47,
      "outputs": [
        {
          "output_type": "execute_result",
          "data": {
            "text/plain": [
              "{'Git', 'Hadoop', 'Java', 'Python', 'R', 'SAS', 'SQL', 'Scala', 'Tableau'}"
            ]
          },
          "metadata": {
            "tags": []
          },
          "execution_count": 47
        }
      ]
    },
    {
      "metadata": {
        "id": "0-lwL_6m0XTw",
        "colab_type": "code",
        "outputId": "3267d964-ea14-432b-ea6f-1d5b6f5a53a4",
        "colab": {
          "base_uri": "https://localhost:8080/",
          "height": 34
        }
      },
      "cell_type": "code",
      "source": [
        "# Intersection operation\n",
        "dataScientist.intersection(dataEngineer)\n",
        "\n",
        "# Equivalent Result\n",
        "dataScientist & dataEngineer"
      ],
      "execution_count": 36,
      "outputs": [
        {
          "output_type": "execute_result",
          "data": {
            "text/plain": [
              "{'Git', 'Python', 'SQL'}"
            ]
          },
          "metadata": {
            "tags": []
          },
          "execution_count": 36
        }
      ]
    },
    {
      "metadata": {
        "id": "Eiwkz2eq0c2_",
        "colab_type": "code",
        "outputId": "67c3e037-7c17-495d-ea01-9898681e5d76",
        "colab": {
          "base_uri": "https://localhost:8080/",
          "height": 34
        }
      },
      "cell_type": "code",
      "source": [
        "# Initialize a set\n",
        "graphicDesigner = {'Illustrator', 'InDesign', 'Photoshop'}\n",
        "\n",
        "# These sets have elements in common so it would return False\n",
        "dataScientist.isdisjoint(dataEngineer)\n",
        "\n",
        "# These sets have no elements in common so it would return True\n",
        "dataScientist.isdisjoint(graphicDesigner)"
      ],
      "execution_count": 38,
      "outputs": [
        {
          "output_type": "execute_result",
          "data": {
            "text/plain": [
              "True"
            ]
          },
          "metadata": {
            "tags": []
          },
          "execution_count": 38
        }
      ]
    },
    {
      "metadata": {
        "id": "tpkuheqT0ghB",
        "colab_type": "code",
        "outputId": "39d52eb3-e0f4-4a8c-c187-e1ac0a67e97a",
        "colab": {
          "base_uri": "https://localhost:8080/",
          "height": 34
        }
      },
      "cell_type": "code",
      "source": [
        "# Difference Operation\n",
        "dataScientist.difference(dataEngineer)\n",
        "\n",
        "# Equivalent Result\n",
        "dataScientist - dataEngineer"
      ],
      "execution_count": 40,
      "outputs": [
        {
          "output_type": "execute_result",
          "data": {
            "text/plain": [
              "{'R', 'SAS', 'Tableau'}"
            ]
          },
          "metadata": {
            "tags": []
          },
          "execution_count": 40
        }
      ]
    },
    {
      "metadata": {
        "id": "EhweEtDs0jzD",
        "colab_type": "code",
        "outputId": "5d3a2454-3f8e-4109-9c57-19b2f5479cff",
        "colab": {
          "base_uri": "https://localhost:8080/",
          "height": 34
        }
      },
      "cell_type": "code",
      "source": [
        "# Symmetric Difference Operation\n",
        "dataScientist.symmetric_difference(dataEngineer)\n",
        "\n",
        "# Equivalent Result\n",
        "dataScientist ^ dataEngineer"
      ],
      "execution_count": 39,
      "outputs": [
        {
          "output_type": "execute_result",
          "data": {
            "text/plain": [
              "{'Hadoop', 'Java', 'R', 'SAS', 'Scala', 'Tableau'}"
            ]
          },
          "metadata": {
            "tags": []
          },
          "execution_count": 39
        }
      ]
    },
    {
      "metadata": {
        "id": "qxyT_HvL0pvA",
        "colab_type": "code",
        "outputId": "eed033c9-d225-4cf9-a1ea-81ffd250ad25",
        "colab": {
          "base_uri": "https://localhost:8080/",
          "height": 36
        }
      },
      "cell_type": "code",
      "source": [
        "# Initialize a list\n",
        "possibleList = ['Python', 'R', 'SQL', 'Git', 'Tableau', 'SAS', 'Java', 'Spark', 'Scala']\n",
        "\n",
        "# Membership test\n",
        "'Python' in possibleList"
      ],
      "execution_count": 0,
      "outputs": [
        {
          "output_type": "execute_result",
          "data": {
            "text/plain": [
              "True"
            ]
          },
          "metadata": {
            "tags": []
          },
          "execution_count": 16
        }
      ]
    },
    {
      "metadata": {
        "id": "UObZHzsRZVo9",
        "colab_type": "code",
        "colab": {}
      },
      "cell_type": "code",
      "source": [
        ""
      ],
      "execution_count": 0,
      "outputs": []
    },
    {
      "metadata": {
        "id": "bx95g_c00vOS",
        "colab_type": "code",
        "colab": {}
      },
      "cell_type": "code",
      "source": [
        "possibleSkills = {'Python',  'SQL', 'Git', 'Tableau', 'SAS'}\n",
        "mySkills = {'Python', 'R'}"
      ],
      "execution_count": 0,
      "outputs": []
    },
    {
      "metadata": {
        "id": "ctq4ea6q0xCV",
        "colab_type": "code",
        "colab": {
          "base_uri": "https://localhost:8080/",
          "height": 34
        },
        "outputId": "a49e8ee2-9dd8-4027-9ce8-c0300aa5db47"
      },
      "cell_type": "code",
      "source": [
        "mySkills.issubset(possibleSkills)"
      ],
      "execution_count": 45,
      "outputs": [
        {
          "output_type": "execute_result",
          "data": {
            "text/plain": [
              "False"
            ]
          },
          "metadata": {
            "tags": []
          },
          "execution_count": 45
        }
      ]
    },
    {
      "metadata": {
        "id": "4HlSohLzWHFK",
        "colab_type": "code",
        "colab": {}
      },
      "cell_type": "code",
      "source": [
        ""
      ],
      "execution_count": 0,
      "outputs": []
    },
    {
      "metadata": {
        "id": "AGy0vFAz01Ne",
        "colab_type": "text"
      },
      "cell_type": "markdown",
      "source": [
        "##Tarea\n",
        "\n",
        "\n",
        "\n",
        "1.   Crear tres grupos (ejem: Casas de Game of Thrones). Maximo 4 elementos\n",
        "2.   Aplicar operaciones de inteseccion, union, diferencia, pertenencia.\n",
        "3.   Enviar al correo ezequiel.aguilar@utp.ac.pa\n",
        "\n"
      ]
    },
    {
      "metadata": {
        "id": "UGqwR_gNWazR",
        "colab_type": "code",
        "colab": {
          "base_uri": "https://localhost:8080/",
          "height": 34
        },
        "outputId": "ccb4e29b-0bc0-4f8a-aa05-4285134c6efe"
      },
      "cell_type": "code",
      "source": [
        "casaTyrell= {'Margaery', 'Olenna', 'Mace'}\n",
        "casaLannister = {'Cersei', 'Jaime', 'Myrcella'}\n",
        "casaBaratheon ={'Myrcella', 'Margaery', 'Joffrey'}\n",
        "\n",
        "# Intersection operation\n",
        "casaTyrell.intersection(casaBaratheon)"
      ],
      "execution_count": 54,
      "outputs": [
        {
          "output_type": "execute_result",
          "data": {
            "text/plain": [
              "{'Margaery'}"
            ]
          },
          "metadata": {
            "tags": []
          },
          "execution_count": 54
        }
      ]
    },
    {
      "metadata": {
        "id": "b8gIxbkdXWcP",
        "colab_type": "code",
        "colab": {
          "base_uri": "https://localhost:8080/",
          "height": 34
        },
        "outputId": "4b0b49ad-ad00-4c7b-f16b-6f18355b9ad0"
      },
      "cell_type": "code",
      "source": [
        "casaLannister.union(casaBaratheon)"
      ],
      "execution_count": 58,
      "outputs": [
        {
          "output_type": "execute_result",
          "data": {
            "text/plain": [
              "{'Cersei', 'Jaime', 'Joffrey', 'Margaery', 'Myrcella'}"
            ]
          },
          "metadata": {
            "tags": []
          },
          "execution_count": 58
        }
      ]
    },
    {
      "metadata": {
        "id": "pm2sfgCJYuaC",
        "colab_type": "code",
        "colab": {}
      },
      "cell_type": "code",
      "source": [
        ""
      ],
      "execution_count": 0,
      "outputs": []
    },
    {
      "metadata": {
        "id": "ybYrcUdDX8_A",
        "colab_type": "code",
        "colab": {
          "base_uri": "https://localhost:8080/",
          "height": 34
        },
        "outputId": "fd7b10d2-01fc-4b5e-8253-cd3a90af4052"
      },
      "cell_type": "code",
      "source": [
        "# Symmetric Difference Operation\n",
        "casaTyrell.symmetric_difference(casaLannister)\n"
      ],
      "execution_count": 56,
      "outputs": [
        {
          "output_type": "execute_result",
          "data": {
            "text/plain": [
              "{'Cersei', 'Jaime', 'Mace', 'Margaery', 'Myrcella', 'Olenna'}"
            ]
          },
          "metadata": {
            "tags": []
          },
          "execution_count": 56
        }
      ]
    },
    {
      "metadata": {
        "id": "7WQ1nPbKYbm4",
        "colab_type": "code",
        "colab": {
          "base_uri": "https://localhost:8080/",
          "height": 34
        },
        "outputId": "fdff261b-2f33-439f-d8d4-ca7e5b0a22b7"
      },
      "cell_type": "code",
      "source": [
        "# Membership test\n",
        "'Joffrey' in casaBaratheon"
      ],
      "execution_count": 57,
      "outputs": [
        {
          "output_type": "execute_result",
          "data": {
            "text/plain": [
              "True"
            ]
          },
          "metadata": {
            "tags": []
          },
          "execution_count": 57
        }
      ]
    }
  ]
}