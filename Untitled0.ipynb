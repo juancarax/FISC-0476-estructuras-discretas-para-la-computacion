{
  "nbformat": 4,
  "nbformat_minor": 0,
  "metadata": {
    "colab": {
      "name": "Untitled0.ipynb",
      "version": "0.3.2",
      "provenance": []
    },
    "kernelspec": {
      "name": "python3",
      "display_name": "Python 3"
    }
  },
  "cells": [
    {
      "metadata": {
        "id": "d3KEHrb3Op8W",
        "colab_type": "code",
        "colab": {}
      },
      "cell_type": "code",
      "source": [
        ""
      ],
      "execution_count": 0,
      "outputs": []
    },
    {
      "metadata": {
        "id": "aJD5kzwAO0Xn",
        "colab_type": "text"
      },
      "cell_type": "markdown",
      "source": [
        "##Estructuras Discretas Para La Computación\n",
        "## Juan Camilo García"
      ]
    },
    {
      "metadata": {
        "id": "zE5jvR_kPSSg",
        "colab_type": "code",
        "colab": {
          "base_uri": "https://localhost:8080/",
          "height": 34
        },
        "outputId": "f6c0ab2a-006f-4a73-9b9d-6b5008f022b7"
      },
      "cell_type": "code",
      "source": [
        "x = 12\n",
        "if x >10:\n",
        "    print(\"Hello\")\n"
      ],
      "execution_count": 16,
      "outputs": [
        {
          "output_type": "stream",
          "text": [
            "Hello\n"
          ],
          "name": "stdout"
        }
      ]
    },
    {
      "metadata": {
        "id": "hINrsFF4QfC_",
        "colab_type": "code",
        "colab": {
          "base_uri": "https://localhost:8080/",
          "height": 34
        },
        "outputId": "4e4a4bba-3ba1-4086-dc18-0492791ece1a"
      },
      "cell_type": "code",
      "source": [
        "x = 12\n",
        "if x >10:\n",
        "  print(\"Hello\")\n",
        "else:\n",
        "   print(\"world\")"
      ],
      "execution_count": 20,
      "outputs": [
        {
          "output_type": "stream",
          "text": [
            "world\n"
          ],
          "name": "stdout"
        }
      ]
    },
    {
      "metadata": {
        "id": "ibC-vNf6Q6TR",
        "colab_type": "code",
        "colab": {
          "base_uri": "https://localhost:8080/",
          "height": 34
        },
        "outputId": "6d084373-36d5-431b-8a74-c9c433d1a33d"
      },
      "cell_type": "code",
      "source": [
        "x = 10\n",
        "y = 12\n",
        "if x > y:\n",
        "    print(\"x>y\")\n",
        "elif x < y:\n",
        "    print(\"x<y\")\n",
        "else:\n",
        "    print(\"x=y\")\n"
      ],
      "execution_count": 23,
      "outputs": [
        {
          "output_type": "stream",
          "text": [
            "x<y\n"
          ],
          "name": "stdout"
        }
      ]
    },
    {
      "metadata": {
        "id": "Rp4aTwRSRqKH",
        "colab_type": "code",
        "colab": {
          "base_uri": "https://localhost:8080/",
          "height": 102
        },
        "outputId": "f836a551-c867-469a-ba5b-9c53c46415c2"
      },
      "cell_type": "code",
      "source": [
        "for i  in range(5):\n",
        "  print (i)"
      ],
      "execution_count": 26,
      "outputs": [
        {
          "output_type": "stream",
          "text": [
            "0\n",
            "1\n",
            "2\n",
            "3\n",
            "4\n"
          ],
          "name": "stdout"
        }
      ]
    },
    {
      "metadata": {
        "id": "5t1CGmwtTtoY",
        "colab_type": "code",
        "colab": {
          "base_uri": "https://localhost:8080/",
          "height": 68
        },
        "outputId": "94b6d578-8c66-4dfd-d38e-18f98f69fd00"
      },
      "cell_type": "code",
      "source": [
        "list_of_lists = [[1, 2, 3], [1, 2 ,3], [7, 8, 9]]\n",
        "for list1 in list_of_lists:\n",
        "                   print(list1)"
      ],
      "execution_count": 33,
      "outputs": [
        {
          "output_type": "stream",
          "text": [
            "[1, 2, 3]\n",
            "[1, 2, 3]\n",
            "[7, 8, 9]\n"
          ],
          "name": "stdout"
        }
      ]
    },
    {
      "metadata": {
        "id": "rvOFCyVHVHLI",
        "colab_type": "code",
        "colab": {
          "base_uri": "https://localhost:8080/",
          "height": 170
        },
        "outputId": "cf119697-2322-4f60-c3ae-bcf9302ea092"
      },
      "cell_type": "code",
      "source": [
        "list_of_lists = [[1, 2, 3], [4, 5, 6], [7, 8, 9]]\n",
        "for list1 in list_of_lists:\n",
        "    for x in list1:\n",
        "      print(x)"
      ],
      "execution_count": 34,
      "outputs": [
        {
          "output_type": "stream",
          "text": [
            "1\n",
            "2\n",
            "3\n",
            "4\n",
            "5\n",
            "6\n",
            "7\n",
            "8\n",
            "9\n"
          ],
          "name": "stdout"
        }
      ]
    },
    {
      "metadata": {
        "id": "Ez1Rrh-JWxCI",
        "colab_type": "code",
        "colab": {
          "base_uri": "https://localhost:8080/",
          "height": 85
        },
        "outputId": "3b5745b7-b804-469e-b945-5f9f237ddb98"
      },
      "cell_type": "code",
      "source": [
        "i = 1\n",
        "while i < 3:\n",
        "  print(i ** 2)\n",
        "  i = i+1\n",
        "  print('Bye')"
      ],
      "execution_count": 36,
      "outputs": [
        {
          "output_type": "stream",
          "text": [
            "1\n",
            "Bye\n",
            "4\n",
            "Bye\n"
          ],
          "name": "stdout"
        }
      ]
    },
    {
      "metadata": {
        "id": "jNVZ-lyjXcN_",
        "colab_type": "code",
        "colab": {
          "base_uri": "https://localhost:8080/",
          "height": 153
        },
        "outputId": "c45c1cb3-72bb-4242-d1eb-ffb413058318"
      },
      "cell_type": "code",
      "source": [
        "for i in range (100):\n",
        "  print (i)\n",
        "  if i>=7:\n",
        "    break"
      ],
      "execution_count": 38,
      "outputs": [
        {
          "output_type": "stream",
          "text": [
            "0\n",
            "1\n",
            "2\n",
            "3\n",
            "4\n",
            "5\n",
            "6\n",
            "7\n"
          ],
          "name": "stdout"
        }
      ]
    },
    {
      "metadata": {
        "id": "thYAOv7OYU2B",
        "colab_type": "code",
        "colab": {
          "base_uri": "https://localhost:8080/",
          "height": 187
        },
        "outputId": "5081e828-06ce-4d05-acbf-0e2a28d068bb"
      },
      "cell_type": "code",
      "source": [
        "for i in range(10):\n",
        "  if i>4:\n",
        "    print(\"The End\")\n",
        "    continue\n",
        "  elif i<7:\n",
        "    print (i)"
      ],
      "execution_count": 40,
      "outputs": [
        {
          "output_type": "stream",
          "text": [
            "0\n",
            "1\n",
            "2\n",
            "3\n",
            "4\n",
            "The End\n",
            "The End\n",
            "The End\n",
            "The End\n",
            "The End\n"
          ],
          "name": "stdout"
        }
      ]
    },
    {
      "metadata": {
        "id": "ljQ-FH6GZAlf",
        "colab_type": "code",
        "colab": {
          "base_uri": "https://localhost:8080/",
          "height": 34
        },
        "outputId": "638cc86e-2f83-4e8e-d8ae-637dc8b85cd3"
      },
      "cell_type": "code",
      "source": [
        "res = []\n",
        "for i in range (1,11):\n",
        "    x = 27*i\n",
        "    res.append(x)\n",
        "print (res)"
      ],
      "execution_count": 44,
      "outputs": [
        {
          "output_type": "stream",
          "text": [
            "[27, 54, 81, 108, 135, 162, 189, 216, 243, 270]\n"
          ],
          "name": "stdout"
        }
      ]
    },
    {
      "metadata": {
        "id": "JprTfcTFZ1Oa",
        "colab_type": "code",
        "colab": {
          "base_uri": "https://localhost:8080/",
          "height": 34
        },
        "outputId": "ab9b8fa8-0d77-47a4-d759-229dd9cf8652"
      },
      "cell_type": "code",
      "source": [
        "[27*x for x in range (1,20) if x<=10]"
      ],
      "execution_count": 45,
      "outputs": [
        {
          "output_type": "execute_result",
          "data": {
            "text/plain": [
              "[27, 54, 81, 108, 135, 162, 189, 216, 243, 270]"
            ]
          },
          "metadata": {
            "tags": []
          },
          "execution_count": 45
        }
      ]
    },
    {
      "metadata": {
        "id": "CaR670_2ancv",
        "colab_type": "code",
        "colab": {
          "base_uri": "https://localhost:8080/",
          "height": 51
        },
        "outputId": "e6456f55-ce0d-4a29-f7e9-f42444ce94db"
      },
      "cell_type": "code",
      "source": [
        "dividir = 5\n",
        "bajos = []; altos = []\n",
        "  \n",
        "for i in range(10):\n",
        "    if (i < dividir):\n",
        "      bajos.append(i)\n",
        "    else:\n",
        "      altos.append(i)\n",
        "      \n",
        "print (bajos, \"bajos\")\n",
        "print (\"altos\", altos)"
      ],
      "execution_count": 49,
      "outputs": [
        {
          "output_type": "stream",
          "text": [
            "[0, 1, 2, 3, 4] bajos\n",
            "altos [5, 6, 7, 8, 9]\n"
          ],
          "name": "stdout"
        }
      ]
    }
  ]
}