{
  "nbformat": 4,
  "nbformat_minor": 0,
  "metadata": {
    "colab": {
      "name": "Untitled3.ipynb",
      "version": "0.3.2",
      "provenance": []
    },
    "kernelspec": {
      "name": "python3",
      "display_name": "Python 3"
    }
  },
  "cells": [
    {
      "cell_type": "code",
      "metadata": {
        "id": "_Z4infgCcEI7",
        "colab_type": "code",
        "colab": {}
      },
      "source": [
        "def mayor(list1):\n",
        "  \n",
        "  list1\n",
        "  mayor1=0\n",
        "  for x in range(1, len(list1)):\n",
        "    \n",
        "    if list1[x]>list1[x-1]:\n",
        "      mayor1=list1[x]\n",
        "  return mayor1\n",
        "  \n",
        "    "
      ],
      "execution_count": 0,
      "outputs": []
    },
    {
      "cell_type": "code",
      "metadata": {
        "id": "E2CG5Bp8c-G6",
        "colab_type": "code",
        "colab": {
          "base_uri": "https://localhost:8080/",
          "height": 34
        },
        "outputId": "762d279c-c6bc-4f44-896c-4fade1ba7b34"
      },
      "source": [
        "list2= [40,100, 80, 50]\n",
        "(mayor(list2))"
      ],
      "execution_count": 254,
      "outputs": [
        {
          "output_type": "execute_result",
          "data": {
            "text/plain": [
              "100"
            ]
          },
          "metadata": {
            "tags": []
          },
          "execution_count": 254
        }
      ]
    },
    {
      "cell_type": "code",
      "metadata": {
        "id": "hv9c3763kSRD",
        "colab_type": "code",
        "colab": {}
      },
      "source": [
        "def orden(list1):\n",
        "  \n",
        "  list1\n",
        "  aux=0\n",
        "  for i in range (0, len(list1)):\n",
        "    for j in range (0, len(list1)):\n",
        "      if list1[j]>list1[j-1]:\n",
        "        aux=list1[j]\n",
        "        list1[j]=list1[j-1]\n",
        "        list1[j-1]=aux\n",
        "  \n",
        "  for i in range (0, len(list1)):\n",
        "    print (list1[i])\n",
        "  "
      ],
      "execution_count": 0,
      "outputs": []
    },
    {
      "cell_type": "code",
      "metadata": {
        "id": "A7_lPOTipCQD",
        "colab_type": "code",
        "colab": {
          "base_uri": "https://localhost:8080/",
          "height": 85
        },
        "outputId": "9a7256a7-47b7-4531-a3fe-fd5a82cf15cc"
      },
      "source": [
        "list2= [10,200, 30, 20]\n",
        "(orden(list2))"
      ],
      "execution_count": 336,
      "outputs": [
        {
          "output_type": "stream",
          "text": [
            "200\n",
            "30\n",
            "20\n",
            "10\n"
          ],
          "name": "stdout"
        }
      ]
    },
    {
      "cell_type": "code",
      "metadata": {
        "id": "157k7htNtxX7",
        "colab_type": "code",
        "colab": {}
      },
      "source": [
        "def multiplo(a):\n",
        "  a=0\n",
        "  if (a%7==0) and (a%5!=0):\n",
        "    return True\n",
        "  else:\n",
        "    return False\n",
        "    \n",
        "    "
      ],
      "execution_count": 0,
      "outputs": []
    },
    {
      "cell_type": "code",
      "metadata": {
        "id": "PVoRSAkSvqFC",
        "colab_type": "code",
        "colab": {
          "base_uri": "https://localhost:8080/",
          "height": 34
        },
        "outputId": "e52988ce-c689-4d01-8b2e-94e688c16384"
      },
      "source": [
        "multiplo(79)"
      ],
      "execution_count": 383,
      "outputs": [
        {
          "output_type": "stream",
          "text": [
            "False\n"
          ],
          "name": "stdout"
        }
      ]
    },
    {
      "cell_type": "code",
      "metadata": {
        "id": "uziXl92rxkCR",
        "colab_type": "code",
        "colab": {}
      },
      "source": [
        "def primo(a):\n",
        "  a\n",
        "  if a<2:\n",
        "    return False\n",
        "  elif a==2:\n",
        "    return True\n",
        "  else:\n",
        "    for n in range(2,a):\n",
        "      if a%n==0:\n",
        "        return False\n",
        "      elif (n==a-1):\n",
        "        return True\n",
        "        "
      ],
      "execution_count": 0,
      "outputs": []
    },
    {
      "cell_type": "code",
      "metadata": {
        "id": "pJZp9UlwzhEp",
        "colab_type": "code",
        "colab": {
          "base_uri": "https://localhost:8080/",
          "height": 34
        },
        "outputId": "177d3735-4575-4d08-d4bf-b3c26c1389f5"
      },
      "source": [
        "primo(5)"
      ],
      "execution_count": 405,
      "outputs": [
        {
          "output_type": "execute_result",
          "data": {
            "text/plain": [
              "True"
            ]
          },
          "metadata": {
            "tags": []
          },
          "execution_count": 405
        }
      ]
    }
  ]
}