{
  "nbformat": 4,
  "nbformat_minor": 0,
  "metadata": {
    "colab": {
      "name": "Phyton04.ipynb",
      "version": "0.3.2",
      "provenance": []
    },
    "kernelspec": {
      "name": "python3",
      "display_name": "Python 3"
    }
  },
  "cells": [
    {
      "metadata": {
        "id": "rd1cY8hqcLq3",
        "colab_type": "text"
      },
      "cell_type": "markdown",
      "source": [
        "Juan Camilo García 20-14-4984"
      ]
    },
    {
      "metadata": {
        "id": "cuWP-oNcMrmz",
        "colab_type": "code",
        "colab": {}
      },
      "cell_type": "code",
      "source": [
        "c = [-45, 6, 7, 100, 3000]"
      ],
      "execution_count": 0,
      "outputs": []
    },
    {
      "metadata": {
        "id": "8xerHf6DNDd3",
        "colab_type": "code",
        "colab": {
          "base_uri": "https://localhost:8080/",
          "height": 34
        },
        "outputId": "d34d2562-c1b6-4839-eb9e-5b3d8be2ab9f"
      },
      "cell_type": "code",
      "source": [
        "print (c)"
      ],
      "execution_count": 2,
      "outputs": [
        {
          "output_type": "stream",
          "text": [
            "[-45, 6, 7, 100, 3000]\n"
          ],
          "name": "stdout"
        }
      ]
    },
    {
      "metadata": {
        "id": "FCCW0cJBNbMn",
        "colab_type": "code",
        "colab": {
          "base_uri": "https://localhost:8080/",
          "height": 34
        },
        "outputId": "370f53a5-9dbf-4e49-ad78-a75237b4bd89"
      },
      "cell_type": "code",
      "source": [
        "c[0]"
      ],
      "execution_count": 5,
      "outputs": [
        {
          "output_type": "execute_result",
          "data": {
            "text/plain": [
              "-45"
            ]
          },
          "metadata": {
            "tags": []
          },
          "execution_count": 5
        }
      ]
    },
    {
      "metadata": {
        "id": "_FhOcYKlNpqN",
        "colab_type": "code",
        "colab": {
          "base_uri": "https://localhost:8080/",
          "height": 34
        },
        "outputId": "5b6d77d4-d520-4375-9fdb-74e72233ad6f"
      },
      "cell_type": "code",
      "source": [
        "len (c)"
      ],
      "execution_count": 7,
      "outputs": [
        {
          "output_type": "execute_result",
          "data": {
            "text/plain": [
              "5"
            ]
          },
          "metadata": {
            "tags": []
          },
          "execution_count": 7
        }
      ]
    },
    {
      "metadata": {
        "id": "zFdVKNniOY0e",
        "colab_type": "code",
        "colab": {
          "base_uri": "https://localhost:8080/",
          "height": 34
        },
        "outputId": "0d420f87-afe2-4947-8dbe-05739832fa8f"
      },
      "cell_type": "code",
      "source": [
        "type (c)"
      ],
      "execution_count": 9,
      "outputs": [
        {
          "output_type": "execute_result",
          "data": {
            "text/plain": [
              "list"
            ]
          },
          "metadata": {
            "tags": []
          },
          "execution_count": 9
        }
      ]
    },
    {
      "metadata": {
        "id": "mlq-6UPxOoI3",
        "colab_type": "code",
        "colab": {
          "base_uri": "https://localhost:8080/",
          "height": 34
        },
        "outputId": "5bdb975c-bb04-4efe-f9e5-56a62a7cb65a"
      },
      "cell_type": "code",
      "source": [
        "c[-3]"
      ],
      "execution_count": 14,
      "outputs": [
        {
          "output_type": "execute_result",
          "data": {
            "text/plain": [
              "7"
            ]
          },
          "metadata": {
            "tags": []
          },
          "execution_count": 14
        }
      ]
    },
    {
      "metadata": {
        "id": "KhsX6JaCPK8u",
        "colab_type": "code",
        "colab": {}
      },
      "cell_type": "code",
      "source": [
        "a = 1"
      ],
      "execution_count": 0,
      "outputs": []
    },
    {
      "metadata": {
        "id": "eg-f5TDOPMGl",
        "colab_type": "code",
        "colab": {}
      },
      "cell_type": "code",
      "source": [
        "b=2"
      ],
      "execution_count": 0,
      "outputs": []
    },
    {
      "metadata": {
        "id": "Hd5PSXO6PNI2",
        "colab_type": "code",
        "colab": {
          "base_uri": "https://localhost:8080/",
          "height": 34
        },
        "outputId": "fe1bfef1-a9a0-4615-f608-526ade35fc30"
      },
      "cell_type": "code",
      "source": [
        "c[a + b]"
      ],
      "execution_count": 18,
      "outputs": [
        {
          "output_type": "execute_result",
          "data": {
            "text/plain": [
              "100"
            ]
          },
          "metadata": {
            "tags": []
          },
          "execution_count": 18
        }
      ]
    },
    {
      "metadata": {
        "id": "5FxY6xDMQK7e",
        "colab_type": "code",
        "colab": {}
      },
      "cell_type": "code",
      "source": [
        "notas = [30, 5, 6, 7, 10]"
      ],
      "execution_count": 0,
      "outputs": []
    },
    {
      "metadata": {
        "id": "fljrWQpEQO42",
        "colab_type": "code",
        "colab": {
          "base_uri": "https://localhost:8080/",
          "height": 34
        },
        "outputId": "b2927984-7e78-4710-a1e5-a74893ea68c1"
      },
      "cell_type": "code",
      "source": [
        "sum(notas)"
      ],
      "execution_count": 21,
      "outputs": [
        {
          "output_type": "execute_result",
          "data": {
            "text/plain": [
              "58"
            ]
          },
          "metadata": {
            "tags": []
          },
          "execution_count": 21
        }
      ]
    },
    {
      "metadata": {
        "id": "cgTz7hWnQb8v",
        "colab_type": "code",
        "colab": {
          "base_uri": "https://localhost:8080/",
          "height": 34
        },
        "outputId": "d3fec770-6573-4cdf-ef00-42b1cb6d4a93"
      },
      "cell_type": "code",
      "source": [
        "len(notas)"
      ],
      "execution_count": 31,
      "outputs": [
        {
          "output_type": "execute_result",
          "data": {
            "text/plain": [
              "5"
            ]
          },
          "metadata": {
            "tags": []
          },
          "execution_count": 31
        }
      ]
    },
    {
      "metadata": {
        "id": "pL_PtPChQSUm",
        "colab_type": "code",
        "colab": {}
      },
      "cell_type": "code",
      "source": [
        "avg = sum(notas) / len(notas)"
      ],
      "execution_count": 0,
      "outputs": []
    },
    {
      "metadata": {
        "id": "kdmkOrrLQ0qf",
        "colab_type": "code",
        "colab": {
          "base_uri": "https://localhost:8080/",
          "height": 34
        },
        "outputId": "56b8216a-92fd-41d6-86e8-88d449c1e438"
      },
      "cell_type": "code",
      "source": [
        "avg"
      ],
      "execution_count": 37,
      "outputs": [
        {
          "output_type": "execute_result",
          "data": {
            "text/plain": [
              "11.6"
            ]
          },
          "metadata": {
            "tags": []
          },
          "execution_count": 37
        }
      ]
    },
    {
      "metadata": {
        "id": "RdOe5o1eRSN-",
        "colab_type": "code",
        "colab": {}
      },
      "cell_type": "code",
      "source": [
        "i=0"
      ],
      "execution_count": 0,
      "outputs": []
    },
    {
      "metadata": {
        "id": "U-5cRHXHXpG_",
        "colab_type": "text"
      },
      "cell_type": "markdown",
      "source": [
        "Asignación"
      ]
    },
    {
      "metadata": {
        "id": "aY-ElhkVRvdQ",
        "colab_type": "code",
        "colab": {
          "base_uri": "https://localhost:8080/",
          "height": 34
        },
        "outputId": "0cff18f6-77dc-430d-8f39-a78c3191391c"
      },
      "cell_type": "code",
      "source": [
        "f = 0\n",
        "for i in notas:\n",
        "  f +=i\n",
        "print(f)"
      ],
      "execution_count": 58,
      "outputs": [
        {
          "output_type": "stream",
          "text": [
            "58\n"
          ],
          "name": "stdout"
        }
      ]
    },
    {
      "metadata": {
        "id": "56MFN9qUXnEY",
        "colab_type": "text"
      },
      "cell_type": "markdown",
      "source": [
        "Asignación"
      ]
    },
    {
      "metadata": {
        "id": "Cn--4aWsWRy3",
        "colab_type": "code",
        "colab": {
          "base_uri": "https://localhost:8080/",
          "height": 34
        },
        "outputId": "5636bbca-f482-4db5-ee40-df9b6a705a74"
      },
      "cell_type": "code",
      "source": [
        "suma = 0 \n",
        "promedio = 0\n",
        "for i in notas:\n",
        "  suma +=i\n",
        "  promedio= suma/len(notas)\n",
        "print (promedio)"
      ],
      "execution_count": 64,
      "outputs": [
        {
          "output_type": "stream",
          "text": [
            "11.6\n"
          ],
          "name": "stdout"
        }
      ]
    },
    {
      "metadata": {
        "id": "klW4sXNQXWKa",
        "colab_type": "code",
        "colab": {}
      },
      "cell_type": "code",
      "source": [
        "c[4] = 17"
      ],
      "execution_count": 0,
      "outputs": []
    },
    {
      "metadata": {
        "id": "noBannDPXcCW",
        "colab_type": "code",
        "colab": {
          "base_uri": "https://localhost:8080/",
          "height": 34
        },
        "outputId": "ac6c06aa-55ca-4a19-d335-d6084a3ab99a"
      },
      "cell_type": "code",
      "source": [
        "c"
      ],
      "execution_count": 66,
      "outputs": [
        {
          "output_type": "execute_result",
          "data": {
            "text/plain": [
              "[-45, 6, 7, 100, 17]"
            ]
          },
          "metadata": {
            "tags": []
          },
          "execution_count": 66
        }
      ]
    },
    {
      "metadata": {
        "id": "fJfwPT-3X0y2",
        "colab_type": "code",
        "colab": {}
      },
      "cell_type": "code",
      "source": [
        "s = 'hello'"
      ],
      "execution_count": 0,
      "outputs": []
    },
    {
      "metadata": {
        "id": "TqdsTq-8X4nO",
        "colab_type": "code",
        "colab": {
          "base_uri": "https://localhost:8080/",
          "height": 34
        },
        "outputId": "18c0801f-f6ae-4bcd-805b-6efe29e3167c"
      },
      "cell_type": "code",
      "source": [
        "s[0]"
      ],
      "execution_count": 68,
      "outputs": [
        {
          "output_type": "execute_result",
          "data": {
            "text/plain": [
              "'h'"
            ]
          },
          "metadata": {
            "tags": []
          },
          "execution_count": 68
        }
      ]
    },
    {
      "metadata": {
        "id": "hJqkXj8HYZK_",
        "colab_type": "code",
        "colab": {}
      },
      "cell_type": "code",
      "source": [
        "a_list = []"
      ],
      "execution_count": 0,
      "outputs": []
    },
    {
      "metadata": {
        "id": "UjY4RpSGYb0P",
        "colab_type": "code",
        "colab": {}
      },
      "cell_type": "code",
      "source": [
        "for number in range(1, 6):\n",
        "  a_list += [number]"
      ],
      "execution_count": 0,
      "outputs": []
    },
    {
      "metadata": {
        "id": "16tV1k4QYkRS",
        "colab_type": "code",
        "colab": {
          "base_uri": "https://localhost:8080/",
          "height": 34
        },
        "outputId": "0bf4a916-4468-466b-9a91-4a656cefd4f7"
      },
      "cell_type": "code",
      "source": [
        "a_list"
      ],
      "execution_count": 73,
      "outputs": [
        {
          "output_type": "execute_result",
          "data": {
            "text/plain": [
              "[1, 2, 3, 4, 5, 1, 2, 3, 4, 5]"
            ]
          },
          "metadata": {
            "tags": []
          },
          "execution_count": 73
        }
      ]
    },
    {
      "metadata": {
        "id": "0rbjo19caztf",
        "colab_type": "text"
      },
      "cell_type": "markdown",
      "source": [
        "**Asignación**"
      ]
    },
    {
      "metadata": {
        "id": "flejHjlpZ1Y2",
        "colab_type": "code",
        "colab": {
          "base_uri": "https://localhost:8080/",
          "height": 34
        },
        "outputId": "31cd91a9-68b0-4019-c47b-7252921f11fc"
      },
      "cell_type": "code",
      "source": [
        "vacioSet = set()\n",
        "promedio = 0\n",
        "plantas = set ([161, 182, 161, 154, 176, 170, 167, 171, 170, 174])\n",
        "promedio = sum(plantas)/len(plantas)\n",
        "print(promedio)"
      ],
      "execution_count": 80,
      "outputs": [
        {
          "output_type": "stream",
          "text": [
            "169.375\n"
          ],
          "name": "stdout"
        }
      ]
    }
  ]
}