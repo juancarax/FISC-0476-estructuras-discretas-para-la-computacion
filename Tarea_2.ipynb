{
  "nbformat": 4,
  "nbformat_minor": 0,
  "metadata": {
    "colab": {
      "name": "Tarea#2.ipynb",
      "version": "0.3.2",
      "provenance": []
    },
    "kernelspec": {
      "name": "python2",
      "display_name": "Python 2"
    }
  },
  "cells": [
    {
      "cell_type": "code",
      "metadata": {
        "id": "K33a2K9JgHRV",
        "colab_type": "code",
        "colab": {}
      },
      "source": [
        ""
      ],
      "execution_count": 0,
      "outputs": []
    },
    {
      "cell_type": "markdown",
      "metadata": {
        "id": "Q0tv9CX5gISv",
        "colab_type": "text"
      },
      "source": [
        "Tarea 2\n",
        "¿Cuales son los posibles combinaciones de partidos? ¿Cuantas combinaciones?\n",
        "Equipos finalistas: Porto, Roma, Manchester City, Shalke 04, Bayer, Liverpool, Manchester United, PSG, Juventus, Atlético de Madrid, Barcelona, Lyon"
      ]
    },
    {
      "cell_type": "code",
      "metadata": {
        "id": "_hw5uCU6gWIu",
        "colab_type": "code",
        "colab": {
          "base_uri": "https://localhost:8080/",
          "height": 1139
        },
        "outputId": "ed111f98-bbf8-4b4b-f53d-ace270342984"
      },
      "source": [
        "import itertools\n",
        "equipos = itertools.combinations(('Manchester City', 'Shalke 04', 'Bayer', 'Porto', 'Roma', 'Liverpool', 'Manchester United', 'PSG', 'Juventus', 'Atlético de Madrid', 'Barcelona', 'Lyon'), 2)\n",
        "list(equipos)\n"
      ],
      "execution_count": 8,
      "outputs": [
        {
          "output_type": "execute_result",
          "data": {
            "text/plain": [
              "[('Manchester City', 'Shalke 04'),\n",
              " ('Manchester City', 'Bayer'),\n",
              " ('Manchester City', 'Porto'),\n",
              " ('Manchester City', 'Roma'),\n",
              " ('Manchester City', 'Liverpool'),\n",
              " ('Manchester City', 'Manchester United'),\n",
              " ('Manchester City', 'PSG'),\n",
              " ('Manchester City', 'Juventus'),\n",
              " ('Manchester City', 'Atl\\xc3\\xa9tico de Madrid'),\n",
              " ('Manchester City', 'Barcelona'),\n",
              " ('Manchester City', 'Lyon'),\n",
              " ('Shalke 04', 'Bayer'),\n",
              " ('Shalke 04', 'Porto'),\n",
              " ('Shalke 04', 'Roma'),\n",
              " ('Shalke 04', 'Liverpool'),\n",
              " ('Shalke 04', 'Manchester United'),\n",
              " ('Shalke 04', 'PSG'),\n",
              " ('Shalke 04', 'Juventus'),\n",
              " ('Shalke 04', 'Atl\\xc3\\xa9tico de Madrid'),\n",
              " ('Shalke 04', 'Barcelona'),\n",
              " ('Shalke 04', 'Lyon'),\n",
              " ('Bayer', 'Porto'),\n",
              " ('Bayer', 'Roma'),\n",
              " ('Bayer', 'Liverpool'),\n",
              " ('Bayer', 'Manchester United'),\n",
              " ('Bayer', 'PSG'),\n",
              " ('Bayer', 'Juventus'),\n",
              " ('Bayer', 'Atl\\xc3\\xa9tico de Madrid'),\n",
              " ('Bayer', 'Barcelona'),\n",
              " ('Bayer', 'Lyon'),\n",
              " ('Porto', 'Roma'),\n",
              " ('Porto', 'Liverpool'),\n",
              " ('Porto', 'Manchester United'),\n",
              " ('Porto', 'PSG'),\n",
              " ('Porto', 'Juventus'),\n",
              " ('Porto', 'Atl\\xc3\\xa9tico de Madrid'),\n",
              " ('Porto', 'Barcelona'),\n",
              " ('Porto', 'Lyon'),\n",
              " ('Roma', 'Liverpool'),\n",
              " ('Roma', 'Manchester United'),\n",
              " ('Roma', 'PSG'),\n",
              " ('Roma', 'Juventus'),\n",
              " ('Roma', 'Atl\\xc3\\xa9tico de Madrid'),\n",
              " ('Roma', 'Barcelona'),\n",
              " ('Roma', 'Lyon'),\n",
              " ('Liverpool', 'Manchester United'),\n",
              " ('Liverpool', 'PSG'),\n",
              " ('Liverpool', 'Juventus'),\n",
              " ('Liverpool', 'Atl\\xc3\\xa9tico de Madrid'),\n",
              " ('Liverpool', 'Barcelona'),\n",
              " ('Liverpool', 'Lyon'),\n",
              " ('Manchester United', 'PSG'),\n",
              " ('Manchester United', 'Juventus'),\n",
              " ('Manchester United', 'Atl\\xc3\\xa9tico de Madrid'),\n",
              " ('Manchester United', 'Barcelona'),\n",
              " ('Manchester United', 'Lyon'),\n",
              " ('PSG', 'Juventus'),\n",
              " ('PSG', 'Atl\\xc3\\xa9tico de Madrid'),\n",
              " ('PSG', 'Barcelona'),\n",
              " ('PSG', 'Lyon'),\n",
              " ('Juventus', 'Atl\\xc3\\xa9tico de Madrid'),\n",
              " ('Juventus', 'Barcelona'),\n",
              " ('Juventus', 'Lyon'),\n",
              " ('Atl\\xc3\\xa9tico de Madrid', 'Barcelona'),\n",
              " ('Atl\\xc3\\xa9tico de Madrid', 'Lyon'),\n",
              " ('Barcelona', 'Lyon')]"
            ]
          },
          "metadata": {
            "tags": []
          },
          "execution_count": 8
        }
      ]
    },
    {
      "cell_type": "code",
      "metadata": {
        "id": "vzWvAi5lh4bm",
        "colab_type": "code",
        "colab": {
          "base_uri": "https://localhost:8080/",
          "height": 34
        },
        "outputId": "daee2836-42ab-4b8d-8ada-1c168c1895e0"
      },
      "source": [
        "len(list(itertools.combinations(('Manchester City', 'Shalke 04', 'Bayer', 'Porto', 'Roma', 'Liverpool', 'Manchester United', 'PSG', 'Juventus', 'Atlético de Madrid', 'Barcelona', 'Lyon'), 2)))"
      ],
      "execution_count": 41,
      "outputs": [
        {
          "output_type": "execute_result",
          "data": {
            "text/plain": [
              "66"
            ]
          },
          "metadata": {
            "tags": []
          },
          "execution_count": 41
        }
      ]
    }
  ]
}