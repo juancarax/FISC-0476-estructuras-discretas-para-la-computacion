{
  "nbformat": 4,
  "nbformat_minor": 0,
  "metadata": {
    "colab": {
      "name": "Lab06.ipynb",
      "version": "0.3.2",
      "provenance": []
    },
    "kernelspec": {
      "name": "python3",
      "display_name": "Python 3"
    }
  },
  "cells": [
    {
      "cell_type": "code",
      "metadata": {
        "id": "NUUwMPGNaajz",
        "colab_type": "code",
        "colab": {}
      },
      "source": [
        ""
      ],
      "execution_count": 0,
      "outputs": []
    },
    {
      "cell_type": "markdown",
      "metadata": {
        "id": "3F7SR6Rracke",
        "colab_type": "text"
      },
      "source": [
        "Tarea#1\n",
        "1. Escribir un programa en Python una función que tenga 2 parámetros números y los multiplique."
      ]
    },
    {
      "cell_type": "code",
      "metadata": {
        "id": "N1OjZLVWalLk",
        "colab_type": "code",
        "colab": {
          "base_uri": "https://localhost:8080/",
          "height": 34
        },
        "outputId": "6684eb43-ff0e-491d-9337-14bddf383fb5"
      },
      "source": [
        " def multiplicacion (num1,num2)\n",
        "  respuesta = num1 * num2\n",
        "  return respuesta\n",
        "  \n",
        "\n",
        "print(multiplicacion(5,3)) \n",
        "   \n",
        " "
      ],
      "execution_count": 19,
      "outputs": [
        {
          "output_type": "stream",
          "text": [
            "15\n"
          ],
          "name": "stdout"
        }
      ]
    },
    {
      "cell_type": "markdown",
      "metadata": {
        "id": "Epx68naafoWO",
        "colab_type": "text"
      },
      "source": [
        "Tarea#2 \n",
        "Escriba una función que regrese el 7%\n",
        "¿Cuál es el total de la venta?\n",
        "\n",
        "\n",
        "\n"
      ]
    },
    {
      "cell_type": "code",
      "metadata": {
        "id": "AqnSafQHf9Q1",
        "colab_type": "code",
        "colab": {
          "base_uri": "https://localhost:8080/",
          "height": 34
        },
        "outputId": "a69898bc-63d7-4f3b-dfcc-8c8a025fc354"
      },
      "source": [
        "def impuesto (venta):\n",
        "  imp=venta*0.07\n",
        "  total=venta+imp\n",
        "  return imp, total\n",
        "\n",
        "impuesto2=impuesto(20)\n",
        "print(\"El impuesto y total de la venta es:\" +str (impuesto2))\n"
      ],
      "execution_count": 86,
      "outputs": [
        {
          "output_type": "stream",
          "text": [
            "El impuesto y total de la venta es:(1.4000000000000001, 21.4)\n"
          ],
          "name": "stdout"
        }
      ]
    },
    {
      "cell_type": "code",
      "metadata": {
        "id": "bBQ9H4TbonL_",
        "colab_type": "code",
        "colab": {
          "base_uri": "https://localhost:8080/",
          "height": 34
        },
        "outputId": "76803c15-a056-452f-ee9b-f22ea244ee53"
      },
      "source": [
        "def descuento (producto):\n",
        "  producto=producto+producto*0.07\n",
        "  es_jubilado = True\n",
        "  total=producto-producto*0.30\n",
        "  \n",
        "  return total\n",
        "\n",
        "print(\"El valor total del producto es \"  +str(descuento(20)))"
      ],
      "execution_count": 92,
      "outputs": [
        {
          "output_type": "stream",
          "text": [
            "El valor total del producto es 14.98\n"
          ],
          "name": "stdout"
        }
      ]
    }
  ]
}